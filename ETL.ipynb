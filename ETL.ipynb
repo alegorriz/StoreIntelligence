{
 "cells": [
  {
   "cell_type": "markdown",
   "metadata": {},
   "source": [
    "# Importing libraries and defining path and filenames\n",
    "\n",
    "In this block of code, the path and name of the files is defined, and the libraries that are going to be used are imported."
   ]
  },
  {
   "cell_type": "code",
   "execution_count": 1,
   "metadata": {},
   "outputs": [],
   "source": [
    "import pandas as pd\n",
    "import pyodbc as pdb\n",
    "from datetime import datetime\n",
    "import os\n",
    "\n",
    "mainpath ='/home/ale/Downloads'\n",
    "f1 = '2010-02.csv'\n",
    "f2 = '2021-02.csv'"
   ]
  },
  {
   "cell_type": "markdown",
   "metadata": {},
   "source": [
    "# Connection to database\n",
    "\n",
    "Here, the connection to the database is created."
   ]
  },
  {
   "cell_type": "code",
   "execution_count": 2,
   "metadata": {},
   "outputs": [],
   "source": [
    "server = 'localhost' \n",
    "database = 'TestDB' \n",
    "username = 'ale' \n",
    "password = 'my-pa55w0rd' \n",
    "cnxn = pdb.connect('DRIVER={ODBC Driver 17 for SQL Server};SERVER='+server+';DATABASE='+database+';UID='+username+';PWD='+ password,autocommit=True)\n",
    "cursor = cnxn.cursor()"
   ]
  },
  {
   "cell_type": "markdown",
   "metadata": {},
   "source": [
    "# Table creation\n",
    "\n",
    "The table where the data will be stored is created in the following code.\n",
    "\n",
    "If the table already exists, it's dropped, and the it's created."
   ]
  },
  {
   "cell_type": "code",
   "execution_count": 3,
   "metadata": {},
   "outputs": [
    {
     "name": "stdout",
     "output_type": "stream",
     "text": [
      "The table hass been created succesfully!\n"
     ]
    }
   ],
   "source": [
    "sql = \"DROP TABLE IF EXISTS Viajes\"\n",
    "cursor.execute(sql)\n",
    "sql = \"CREATE TABLE Viajes(ID INT PRIMARY KEY, ID_bici INT, fecha DATE, duracion TIME, est_salida INT, est_llegada INT)\"\n",
    "cursor.execute(sql)\n",
    "print('The table hass been created succesfully!')"
   ]
  },
  {
   "cell_type": "markdown",
   "metadata": {},
   "source": [
    "# First transformations\n",
    "\n",
    "From the first file, a dataframe is created, giving the data the exact format for the table to receive it."
   ]
  },
  {
   "cell_type": "code",
   "execution_count": 4,
   "metadata": {
    "scrolled": false
   },
   "outputs": [
    {
     "data": {
      "text/html": [
       "<div>\n",
       "<style scoped>\n",
       "    .dataframe tbody tr th:only-of-type {\n",
       "        vertical-align: middle;\n",
       "    }\n",
       "\n",
       "    .dataframe tbody tr th {\n",
       "        vertical-align: top;\n",
       "    }\n",
       "\n",
       "    .dataframe thead th {\n",
       "        text-align: right;\n",
       "    }\n",
       "</style>\n",
       "<table border=\"1\" class=\"dataframe\">\n",
       "  <thead>\n",
       "    <tr style=\"text-align: right;\">\n",
       "      <th></th>\n",
       "      <th>ID</th>\n",
       "      <th>ID_bici</th>\n",
       "      <th>fecha</th>\n",
       "      <th>duracion</th>\n",
       "      <th>est_salida</th>\n",
       "      <th>est_llegada</th>\n",
       "    </tr>\n",
       "  </thead>\n",
       "  <tbody>\n",
       "    <tr>\n",
       "      <th>0</th>\n",
       "      <td>0</td>\n",
       "      <td>69</td>\n",
       "      <td>2010-02-16</td>\n",
       "      <td>00:03:05</td>\n",
       "      <td>85</td>\n",
       "      <td>85</td>\n",
       "    </tr>\n",
       "    <tr>\n",
       "      <th>1</th>\n",
       "      <td>1</td>\n",
       "      <td>11</td>\n",
       "      <td>2010-02-16</td>\n",
       "      <td>00:28:54</td>\n",
       "      <td>85</td>\n",
       "      <td>26</td>\n",
       "    </tr>\n",
       "    <tr>\n",
       "      <th>2</th>\n",
       "      <td>2</td>\n",
       "      <td>43</td>\n",
       "      <td>2010-02-16</td>\n",
       "      <td>00:28:01</td>\n",
       "      <td>85</td>\n",
       "      <td>13</td>\n",
       "    </tr>\n",
       "    <tr>\n",
       "      <th>3</th>\n",
       "      <td>3</td>\n",
       "      <td>826</td>\n",
       "      <td>2010-02-16</td>\n",
       "      <td>00:16:33</td>\n",
       "      <td>22</td>\n",
       "      <td>85</td>\n",
       "    </tr>\n",
       "    <tr>\n",
       "      <th>4</th>\n",
       "      <td>4</td>\n",
       "      <td>662</td>\n",
       "      <td>2010-02-16</td>\n",
       "      <td>00:58:02</td>\n",
       "      <td>27</td>\n",
       "      <td>74</td>\n",
       "    </tr>\n",
       "  </tbody>\n",
       "</table>\n",
       "</div>"
      ],
      "text/plain": [
       "   ID  ID_bici       fecha  duracion  est_salida  est_llegada\n",
       "0   0       69  2010-02-16  00:03:05          85           85\n",
       "1   1       11  2010-02-16  00:28:54          85           26\n",
       "2   2       43  2010-02-16  00:28:01          85           13\n",
       "3   3      826  2010-02-16  00:16:33          22           85\n",
       "4   4      662  2010-02-16  00:58:02          27           74"
      ]
     },
     "execution_count": 4,
     "metadata": {},
     "output_type": "execute_result"
    }
   ],
   "source": [
    "fullpath = os.path.join(mainpath,f1)\n",
    "data = pd.read_csv(fullpath)\n",
    "\n",
    "data['Hora_Retiro'] = data['Hora_Retiro'].str.slice(0, 8)\n",
    "data['Hora_Arribo'] = data['Hora_Arribo'].str.slice(0, 8)\n",
    "\n",
    "df1 = pd.DataFrame(data)\n",
    "duracion = pd.to_datetime(df1.Hora_Arribo) - pd.to_datetime(df1.Hora_Retiro)\n",
    "\n",
    "df1['duracion'] = duracion\n",
    "df1 = df1.drop(['Genero_Usuario', 'Edad_Usuario', 'Hora_Retiro', 'Fecha_Arribo', 'Hora_Arribo'], axis=1)\n",
    "df1.columns = ['ID_bici', 'est_salida', 'fecha', 'est_llegada', 'duracion']\n",
    "df1['ID'] = df1.index\n",
    "df1 = df1[['ID','ID_bici', 'fecha', 'duracion', 'est_salida', 'est_llegada']]\n",
    "df1['duracion'] = df1['duracion'].astype(str).str[-18:-10]\n",
    "df1.head()\n"
   ]
  },
  {
   "cell_type": "markdown",
   "metadata": {},
   "source": [
    "# First insertion\n",
    "\n",
    "In this block of code, the first data set is inserted into the table."
   ]
  },
  {
   "cell_type": "code",
   "execution_count": 5,
   "metadata": {},
   "outputs": [],
   "source": [
    "for index, row in df1.iterrows():\n",
    "    cursor.execute(\"INSERT INTO Viajes (ID,ID_bici,fecha,duracion,est_salida,est_llegada) values(?,?,?,?,?,?)\", row.ID, row.ID_bici, row.fecha, row.duracion, row.est_salida, row.est_llegada)"
   ]
  },
  {
   "cell_type": "markdown",
   "metadata": {},
   "source": [
    "# Second tranformations\n",
    "\n",
    "Here, the second file goes through the same transformations that the first one got, so that everything gets the same format."
   ]
  },
  {
   "cell_type": "code",
   "execution_count": 6,
   "metadata": {},
   "outputs": [
    {
     "data": {
      "text/html": [
       "<div>\n",
       "<style scoped>\n",
       "    .dataframe tbody tr th:only-of-type {\n",
       "        vertical-align: middle;\n",
       "    }\n",
       "\n",
       "    .dataframe tbody tr th {\n",
       "        vertical-align: top;\n",
       "    }\n",
       "\n",
       "    .dataframe thead th {\n",
       "        text-align: right;\n",
       "    }\n",
       "</style>\n",
       "<table border=\"1\" class=\"dataframe\">\n",
       "  <thead>\n",
       "    <tr style=\"text-align: right;\">\n",
       "      <th></th>\n",
       "      <th>ID</th>\n",
       "      <th>ID_bici</th>\n",
       "      <th>fecha</th>\n",
       "      <th>duracion</th>\n",
       "      <th>est_salida</th>\n",
       "      <th>est_llegada</th>\n",
       "    </tr>\n",
       "  </thead>\n",
       "  <tbody>\n",
       "    <tr>\n",
       "      <th>0</th>\n",
       "      <td>0</td>\n",
       "      <td>10427.0</td>\n",
       "      <td>2021-02-01</td>\n",
       "      <td>00:07:14</td>\n",
       "      <td>390.0</td>\n",
       "      <td>315</td>\n",
       "    </tr>\n",
       "    <tr>\n",
       "      <th>1</th>\n",
       "      <td>1</td>\n",
       "      <td>11429.0</td>\n",
       "      <td>2021-02-01</td>\n",
       "      <td>00:06:07</td>\n",
       "      <td>254.0</td>\n",
       "      <td>272</td>\n",
       "    </tr>\n",
       "    <tr>\n",
       "      <th>2</th>\n",
       "      <td>2</td>\n",
       "      <td>9959.0</td>\n",
       "      <td>2021-02-01</td>\n",
       "      <td>00:11:01</td>\n",
       "      <td>476.0</td>\n",
       "      <td>24</td>\n",
       "    </tr>\n",
       "    <tr>\n",
       "      <th>3</th>\n",
       "      <td>3</td>\n",
       "      <td>4044.0</td>\n",
       "      <td>2021-02-01</td>\n",
       "      <td>00:14:38</td>\n",
       "      <td>256.0</td>\n",
       "      <td>147</td>\n",
       "    </tr>\n",
       "    <tr>\n",
       "      <th>4</th>\n",
       "      <td>4</td>\n",
       "      <td>9986.0</td>\n",
       "      <td>2021-02-01</td>\n",
       "      <td>00:28:24</td>\n",
       "      <td>450.0</td>\n",
       "      <td>105</td>\n",
       "    </tr>\n",
       "  </tbody>\n",
       "</table>\n",
       "</div>"
      ],
      "text/plain": [
       "   ID  ID_bici      fecha  duracion  est_salida  est_llegada\n",
       "0   0  10427.0 2021-02-01  00:07:14       390.0          315\n",
       "1   1  11429.0 2021-02-01  00:06:07       254.0          272\n",
       "2   2   9959.0 2021-02-01  00:11:01       476.0           24\n",
       "3   3   4044.0 2021-02-01  00:14:38       256.0          147\n",
       "4   4   9986.0 2021-02-01  00:28:24       450.0          105"
      ]
     },
     "execution_count": 6,
     "metadata": {},
     "output_type": "execute_result"
    }
   ],
   "source": [
    "fullpath = os.path.join(mainpath,f2)\n",
    "data = pd.read_csv(fullpath)\n",
    "\n",
    "data['Hora_Retiro'] = data['Hora_Retiro'].str.slice(0, 8)\n",
    "data['Hora_Arribo'] = data['Hora_Arribo'].str.slice(0, 8)\n",
    "\n",
    "df2 = pd.DataFrame(data)\n",
    "duracion2 = pd.to_datetime(df2.Hora_Arribo) - pd.to_datetime(df2.Hora_Retiro)\n",
    "\n",
    "df2['duracion'] = duracion2\n",
    "df2 = df2.drop(['Genero_Usuario', 'Edad_Usuario', 'Hora_Retiro', 'Fecha_Arribo', 'Hora_Arribo'], axis=1)\n",
    "df2.columns = ['ID_bici', 'est_salida', 'fecha', 'est_llegada', 'duracion']\n",
    "df2['ID'] = df2.index\n",
    "df2 = df2[['ID','ID_bici', 'fecha', 'duracion', 'est_salida', 'est_llegada']]\n",
    "df2['duracion'] = df2['duracion'].astype(str).str[-18:-10]\n",
    "df2['fecha'] = pd.to_datetime(df2['fecha'], format='%d/%m/%Y')\n",
    "df2.head()"
   ]
  },
  {
   "cell_type": "markdown",
   "metadata": {},
   "source": [
    "# Step before update\n",
    "\n",
    "Since the primary key of the table is the index of the dataframe, the new ID has to start from the last ID inserted. Therefore, this block queries the max ID and overwrites the ID column of the dataframe from that number up.\n",
    "\n",
    "Also, two of the columns have float data type, we have to change that in order to have the same format as the destiny table.\n",
    "\n",
    "Something else to consider is that the second file has NULL values, since those rows that have NULL values in any column, have all columns as NULL, the treatment given is to just drop those rows."
   ]
  },
  {
   "cell_type": "code",
   "execution_count": 7,
   "metadata": {},
   "outputs": [
    {
     "name": "stdout",
     "output_type": "stream",
     "text": [
      "1057 290842\n"
     ]
    },
    {
     "name": "stderr",
     "output_type": "stream",
     "text": [
      "/home/ale/anaconda3/lib/python3.7/site-packages/ipykernel_launcher.py:24: SettingWithCopyWarning: \n",
      "A value is trying to be set on a copy of a slice from a DataFrame.\n",
      "Try using .loc[row_indexer,col_indexer] = value instead\n",
      "\n",
      "See the caveats in the documentation: http://pandas.pydata.org/pandas-docs/stable/indexing.html#indexing-view-versus-copy\n",
      "/home/ale/anaconda3/lib/python3.7/site-packages/ipykernel_launcher.py:25: SettingWithCopyWarning: \n",
      "A value is trying to be set on a copy of a slice from a DataFrame.\n",
      "Try using .loc[row_indexer,col_indexer] = value instead\n",
      "\n",
      "See the caveats in the documentation: http://pandas.pydata.org/pandas-docs/stable/indexing.html#indexing-view-versus-copy\n"
     ]
    },
    {
     "data": {
      "text/html": [
       "<div>\n",
       "<style scoped>\n",
       "    .dataframe tbody tr th:only-of-type {\n",
       "        vertical-align: middle;\n",
       "    }\n",
       "\n",
       "    .dataframe tbody tr th {\n",
       "        vertical-align: top;\n",
       "    }\n",
       "\n",
       "    .dataframe thead th {\n",
       "        text-align: right;\n",
       "    }\n",
       "</style>\n",
       "<table border=\"1\" class=\"dataframe\">\n",
       "  <thead>\n",
       "    <tr style=\"text-align: right;\">\n",
       "      <th></th>\n",
       "      <th>ID</th>\n",
       "      <th>ID_bici</th>\n",
       "      <th>fecha</th>\n",
       "      <th>duracion</th>\n",
       "      <th>est_salida</th>\n",
       "      <th>est_llegada</th>\n",
       "    </tr>\n",
       "  </thead>\n",
       "  <tbody>\n",
       "    <tr>\n",
       "      <th>0</th>\n",
       "      <td>1057</td>\n",
       "      <td>10427</td>\n",
       "      <td>2021-02-01</td>\n",
       "      <td>00:07:14</td>\n",
       "      <td>390</td>\n",
       "      <td>315</td>\n",
       "    </tr>\n",
       "    <tr>\n",
       "      <th>1</th>\n",
       "      <td>1058</td>\n",
       "      <td>11429</td>\n",
       "      <td>2021-02-01</td>\n",
       "      <td>00:06:07</td>\n",
       "      <td>254</td>\n",
       "      <td>272</td>\n",
       "    </tr>\n",
       "    <tr>\n",
       "      <th>2</th>\n",
       "      <td>1059</td>\n",
       "      <td>9959</td>\n",
       "      <td>2021-02-01</td>\n",
       "      <td>00:11:01</td>\n",
       "      <td>476</td>\n",
       "      <td>24</td>\n",
       "    </tr>\n",
       "    <tr>\n",
       "      <th>3</th>\n",
       "      <td>1060</td>\n",
       "      <td>4044</td>\n",
       "      <td>2021-02-01</td>\n",
       "      <td>00:14:38</td>\n",
       "      <td>256</td>\n",
       "      <td>147</td>\n",
       "    </tr>\n",
       "    <tr>\n",
       "      <th>4</th>\n",
       "      <td>1061</td>\n",
       "      <td>9986</td>\n",
       "      <td>2021-02-01</td>\n",
       "      <td>00:28:24</td>\n",
       "      <td>450</td>\n",
       "      <td>105</td>\n",
       "    </tr>\n",
       "  </tbody>\n",
       "</table>\n",
       "</div>"
      ],
      "text/plain": [
       "     ID  ID_bici      fecha  duracion  est_salida  est_llegada\n",
       "0  1057    10427 2021-02-01  00:07:14         390          315\n",
       "1  1058    11429 2021-02-01  00:06:07         254          272\n",
       "2  1059     9959 2021-02-01  00:11:01         476           24\n",
       "3  1060     4044 2021-02-01  00:14:38         256          147\n",
       "4  1061     9986 2021-02-01  00:28:24         450          105"
      ]
     },
     "execution_count": 7,
     "metadata": {},
     "output_type": "execute_result"
    }
   ],
   "source": [
    "sql = \"SELECT MAX(ID) FROM Viajes\"\n",
    "cursor.execute(sql)\n",
    "last_ID = cursor.fetchall()\n",
    "\n",
    "total_rows = df2.shape[0]\n",
    "\n",
    "n_first_ID = last_ID[0][0] + 1\n",
    "n_last_ID = n_first_ID + total_rows\n",
    "\n",
    "print(n_first_ID, n_last_ID)\n",
    "\n",
    "n_ID= list(range(n_first_ID, n_last_ID))\n",
    "\n",
    "df2['n_ID'] = n_ID\n",
    "\n",
    "df2 = df2.drop(['ID'], axis=1)\n",
    "df2 = df2[['n_ID','ID_bici', 'fecha', 'duracion', 'est_salida', 'est_llegada']]\n",
    "df2.columns = ['ID','ID_bici', 'fecha','duracion','est_salida', 'est_llegada']\n",
    "\n",
    "df3 = df2.dropna(axis = 0, how ='any')\n",
    "#display(df2.dtypes)\n",
    "\n",
    "\n",
    "df3['est_salida'] = df3['est_salida'].astype(int)\n",
    "df3['ID_bici'] = df3['ID_bici'].astype(int)\n",
    "df3.head()"
   ]
  },
  {
   "cell_type": "markdown",
   "metadata": {},
   "source": [
    "# Update\n",
    "\n",
    "Here, we simply insert the new values in the table."
   ]
  },
  {
   "cell_type": "code",
   "execution_count": null,
   "metadata": {},
   "outputs": [],
   "source": [
    "for index, row in df3.iterrows():\n",
    "    cursor.execute(\"INSERT INTO Viajes (ID,ID_bici,fecha,duracion,est_salida,est_llegada) values(?,?,?,?,?,?)\", row.ID, row.ID_bici, row.fecha, row.duracion, row.est_salida, row.est_llegada)"
   ]
  },
  {
   "cell_type": "markdown",
   "metadata": {},
   "source": [
    "# Select\n",
    "\n",
    "Here we do a simple SELECT query to check our results.\n",
    "Since they are a lot, we'll just do a count."
   ]
  },
  {
   "cell_type": "code",
   "execution_count": null,
   "metadata": {
    "scrolled": true
   },
   "outputs": [],
   "source": [
    "sql = \"SELECT count(*) FROM Viajes\"\n",
    "cursor.execute(sql)\n",
    "result = cursor.fetchall()\n",
    "for i in result:\n",
    "    print(i)"
   ]
  },
  {
   "cell_type": "code",
   "execution_count": null,
   "metadata": {},
   "outputs": [],
   "source": []
  }
 ],
 "metadata": {
  "kernelspec": {
   "display_name": "Python 3",
   "language": "python",
   "name": "python3"
  },
  "language_info": {
   "codemirror_mode": {
    "name": "ipython",
    "version": 3
   },
   "file_extension": ".py",
   "mimetype": "text/x-python",
   "name": "python",
   "nbconvert_exporter": "python",
   "pygments_lexer": "ipython3",
   "version": "3.7.3"
  }
 },
 "nbformat": 4,
 "nbformat_minor": 2
}
